{
  "cells": [
    {
      "cell_type": "markdown",
      "metadata": {
        "id": "view-in-github",
        "colab_type": "text"
      },
      "source": [
        "<a href=\"https://colab.research.google.com/github/Tharunakula/Home-Assignment-2/blob/main/Q2.Convolution%20Operations%20with%20Different%20Parameters.ipynb\" target=\"_parent\"><img src=\"https://colab.research.google.com/assets/colab-badge.svg\" alt=\"Open In Colab\"/></a>"
      ]
    },
    {
      "cell_type": "markdown",
      "source": [
        "2.Convolution Operations with Different Parameters"
      ],
      "metadata": {
        "id": "iDOyTqkqIVkI"
      }
    },
    {
      "cell_type": "code",
      "source": [
        "import numpy as np\n",
        "import tensorflow as tf\n",
        "\n",
        "def perform_convolution(input_matrix, kernel, strides, padding):\n",
        "    \"\"\"\n",
        "    Performs convolution on an input matrix with specified kernel, strides, and padding.\n",
        "\n",
        "    Args:\n",
        "        input_matrix: A NumPy array representing the input matrix.\n",
        "        kernel: A NumPy array representing the kernel.\n",
        "        strides: An integer representing the stride.\n",
        "        padding: A string representing the padding ('VALID' or 'SAME').\n",
        "\n",
        "    Returns:\n",
        "        A NumPy array representing the output feature map.\n",
        "    \"\"\"\n",
        "\n",
        "    # Add batch and channel dimensions\n",
        "    input_tensor = tf.constant(input_matrix.reshape((1, 5, 5, 1)), dtype=tf.float32)\n",
        "    kernel_tensor = tf.constant(kernel.reshape((3, 3, 1, 1)), dtype=tf.float32)\n",
        "\n",
        "    # Perform convolution\n",
        "    output_tensor = tf.nn.conv2d(\n",
        "        input_tensor,\n",
        "        kernel_tensor,\n",
        "        strides=[1, strides, strides, 1],\n",
        "        padding=padding\n",
        "    )\n",
        "\n",
        "    # Remove batch and channel dimensions and return as NumPy array\n",
        "    return output_tensor.numpy().reshape(output_tensor.shape[1], output_tensor.shape[2])\n",
        "\n",
        "# Define input matrix and kernel\n",
        "input_matrix = np.array([\n",
        "    [1, 2, 3, 4, 5],\n",
        "    [6, 7, 8, 9, 10],\n",
        "    [11, 12, 13, 14, 15],\n",
        "    [16, 17, 18, 19, 20],\n",
        "    [21, 22, 23, 24, 25]\n",
        "])\n",
        "\n",
        "kernel = np.array([\n",
        "    [0, 1, 0],\n",
        "    [1, -4, 1],\n",
        "    [0, 1, 0]\n",
        "])\n",
        "\n",
        "# Perform convolution with different parameters\n",
        "results = {}\n",
        "\n",
        "results['Stride=1, Padding=VALID'] = perform_convolution(input_matrix, kernel, strides=1, padding='VALID')\n",
        "results['Stride=1, Padding=SAME'] = perform_convolution(input_matrix, kernel, strides=1, padding='SAME')\n",
        "results['Stride=2, Padding=VALID'] = perform_convolution(input_matrix, kernel, strides=2, padding='VALID')\n",
        "results['Stride=2, Padding=SAME'] = perform_convolution(input_matrix, kernel, strides=2, padding='SAME')\n",
        "\n",
        "# Print the output feature maps\n",
        "for key, value in results.items():\n",
        "    print(f\"{key}:\\n{value}\\n\")"
      ],
      "metadata": {
        "id": "cm_KmGOMICsx",
        "outputId": "70969930-115a-4be7-d0d4-4ce8022ff393",
        "colab": {
          "base_uri": "https://localhost:8080/"
        }
      },
      "execution_count": 1,
      "outputs": [
        {
          "output_type": "stream",
          "name": "stdout",
          "text": [
            "Stride=1, Padding=VALID:\n",
            "[[0. 0. 0.]\n",
            " [0. 0. 0.]\n",
            " [0. 0. 0.]]\n",
            "\n",
            "Stride=1, Padding=SAME:\n",
            "[[  4.   3.   2.   1.  -6.]\n",
            " [ -5.   0.   0.   0. -11.]\n",
            " [-10.   0.   0.   0. -16.]\n",
            " [-15.   0.   0.   0. -21.]\n",
            " [-46. -27. -28. -29. -56.]]\n",
            "\n",
            "Stride=2, Padding=VALID:\n",
            "[[0. 0.]\n",
            " [0. 0.]]\n",
            "\n",
            "Stride=2, Padding=SAME:\n",
            "[[  4.   2.  -6.]\n",
            " [-10.   0. -16.]\n",
            " [-46. -28. -56.]]\n",
            "\n"
          ]
        }
      ]
    },
    {
      "cell_type": "code",
      "source": [],
      "metadata": {
        "id": "N2XRkbWnIk9n"
      },
      "execution_count": null,
      "outputs": []
    }
  ],
  "metadata": {
    "colab": {
      "toc_visible": true,
      "provenance": [],
      "include_colab_link": true
    },
    "kernelspec": {
      "display_name": "Python 3",
      "name": "python3"
    }
  },
  "nbformat": 4,
  "nbformat_minor": 0
}